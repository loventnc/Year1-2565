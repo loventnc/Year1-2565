{
 "cells": [
  {
   "cell_type": "markdown",
   "id": "c30cce4a",
   "metadata": {},
   "source": [
    "# Final Exam Full mark is 100  พิมพ์ตอบในipynbนี้"
   ]
  },
  {
   "cell_type": "markdown",
   "id": "4b83711c",
   "metadata": {},
   "source": [
    "# 1. นายกอต้องการ sort ค่าตัวเลขในลิสต์  นายกอทำแบบนี้"
   ]
  },
  {
   "cell_type": "code",
   "execution_count": 15,
   "id": "4b681492",
   "metadata": {},
   "outputs": [
    {
     "data": {
      "text/plain": [
       "['1', '23', '8345', '923']"
      ]
     },
     "execution_count": 15,
     "metadata": {},
     "output_type": "execute_result"
    }
   ],
   "source": [
    "k = ['1','923','23','8345']\n",
    "sorted(k)"
   ]
  },
  {
   "cell_type": "markdown",
   "id": "3303a84e",
   "metadata": {},
   "source": [
    "# นายกอสงสัยว่า เขาควรจะได้ [1, 23, 923, 8345]  ทำไมนายกอถึงไม่ได้ดังที่ต้องการ   จงอธิบาย  "
   ]
  },
  {
   "cell_type": "code",
   "execution_count": 7,
   "id": "a763a694",
   "metadata": {},
   "outputs": [
    {
     "name": "stdout",
     "output_type": "stream",
     "text": [
      "['1', '23', '7000', '923']\n"
     ]
    }
   ],
   "source": [
    "เพราะว่าค่าที่อยู่ในลิสต์ เป็น str sorted จะลำดับค่าตามลำดับเลข ASCII แต่ถ้าเป็น int จะเรียงตามค่า\n",
    "เพราะ ค่าใน list เป็น string ตอนsorted มันจึงดูที่ตัวอักษรแรกเป็นหลัก และ '8' น้อยกว่า '9' ดังนั้น '8345' จึงมาก่อน '923'"
   ]
  },
  {
   "cell_type": "markdown",
   "id": "504e4579",
   "metadata": {},
   "source": [
    "# จงแก้โค้ดแก้ไขตามความต้องการของนายกอ"
   ]
  },
  {
   "cell_type": "code",
   "execution_count": 22,
   "id": "f31bcc9d",
   "metadata": {},
   "outputs": [
    {
     "name": "stdout",
     "output_type": "stream",
     "text": [
      "[1, 23, 923, 8345]\n"
     ]
    }
   ],
   "source": [
    "k=[int(i) for i in k]\n",
    "print(sorted(k))\n",
    "\n",
    "# new_k = list(map(int,k))\n",
    "# sorted(new_k)\n"
   ]
  },
  {
   "cell_type": "markdown",
   "id": "157a702c",
   "metadata": {},
   "source": [
    "# 2. นายขอเขียน [print(k) for k in range(5)]  หลังจากลองรันดู มี\n",
    "[None, None, None, None, None]  เป็นผลลัพธ์   ถามว่าเกิดจากเหตุใด  จงอธิบาย\n"
   ]
  },
  {
   "cell_type": "code",
   "execution_count": 37,
   "id": "a86549fd",
   "metadata": {},
   "outputs": [
    {
     "name": "stdout",
     "output_type": "stream",
     "text": [
      "0\n",
      "1\n",
      "2\n",
      "3\n",
      "4\n"
     ]
    },
    {
     "data": {
      "text/plain": [
       "[None, None, None, None, None]"
      ]
     },
     "execution_count": 37,
     "metadata": {},
     "output_type": "execute_result"
    }
   ],
   "source": [
    "[print(k) for k in range(5)]"
   ]
  },
  {
   "attachments": {},
   "cell_type": "markdown",
   "id": "6ac54274",
   "metadata": {},
   "source": [
    "เพราะ ใส่คำสั่ง print ลงไปใน list comprehension จึงทำให้มีค่า None ออกมา\n",
    "\n",
    "เพราะว่า print() ไม่ได้return ค่าออกมาจึงทำให้ ค่าที่returnใน list เป็น None แทน"
   ]
  },
  {
   "cell_type": "markdown",
   "id": "f8594863",
   "metadata": {},
   "source": [
    "# นายขอ ต้องการพิมพ์ด้านบนอย่างเดียว ไม่ต้องการลิสต์ [None, None, None, None, None] จงแก้โค้ดแก้ไขตามความต้องการของนายขอ"
   ]
  },
  {
   "cell_type": "code",
   "execution_count": 36,
   "id": "ba5cd2d9",
   "metadata": {},
   "outputs": [
    {
     "name": "stdout",
     "output_type": "stream",
     "text": [
      "0\n",
      "1\n",
      "2\n",
      "3\n",
      "4\n"
     ]
    }
   ],
   "source": [
    "for i in [k for k in range(5)]:\n",
    "    print(i)\n",
    "\n",
    "# for k in range(5):\n",
    "#     print(k)"
   ]
  },
  {
   "cell_type": "markdown",
   "id": "ba63054a",
   "metadata": {},
   "source": [
    "# 3. นายคอคาดว่า x จะไม่นิยามใน foo() จึงเตรียม exception เอาไว้  แต่ปรากฏว่าพิมพ์10  เพราะอะไร โปรดอธิบาย"
   ]
  },
  {
   "cell_type": "code",
   "execution_count": 205,
   "id": "205ce15a",
   "metadata": {},
   "outputs": [],
   "source": [
    "x = 10\n",
    "def foo():\n",
    "    try:\n",
    "        print(x)\n",
    "    except NameError:\n",
    "        print('Name Error')\n",
    "        "
   ]
  },
  {
   "cell_type": "code",
   "execution_count": 206,
   "id": "c7a5ddd9",
   "metadata": {},
   "outputs": [
    {
     "name": "stdout",
     "output_type": "stream",
     "text": [
      "10\n"
     ]
    }
   ],
   "source": [
    "foo()"
   ]
  },
  {
   "attachments": {},
   "cell_type": "markdown",
   "id": "03e1baa1",
   "metadata": {},
   "source": [
    "เพราะ ประกาศ 10 ไว้ใน global จึงทำให้ x มีค่าเป็น 10"
   ]
  },
  {
   "attachments": {},
   "cell_type": "markdown",
   "id": "e5000154",
   "metadata": {},
   "source": []
  },
  {
   "cell_type": "markdown",
   "id": "6c62ff89",
   "metadata": {},
   "source": [
    "# 4. จากข้อสาม  นายคอเลยทำแบบนี้  แต่กลับได้ UnboundLocalError เพราะอะไร"
   ]
  },
  {
   "cell_type": "code",
   "execution_count": 1,
   "id": "e2e469ad",
   "metadata": {},
   "outputs": [],
   "source": [
    "x = 10\n",
    "def foo():\n",
    "    x += 1\n",
    "    print(x)"
   ]
  },
  {
   "cell_type": "code",
   "execution_count": 2,
   "id": "04c23a7b",
   "metadata": {},
   "outputs": [
    {
     "ename": "UnboundLocalError",
     "evalue": "local variable 'x' referenced before assignment",
     "output_type": "error",
     "traceback": [
      "\u001b[1;31m---------------------------------------------------------------------------\u001b[0m",
      "\u001b[1;31mUnboundLocalError\u001b[0m                         Traceback (most recent call last)",
      "Cell \u001b[1;32mIn[2], line 1\u001b[0m\n\u001b[1;32m----> 1\u001b[0m foo()\n",
      "Cell \u001b[1;32mIn[1], line 3\u001b[0m, in \u001b[0;36mfoo\u001b[1;34m()\u001b[0m\n\u001b[0;32m      2\u001b[0m \u001b[39mdef\u001b[39;00m \u001b[39mfoo\u001b[39m():\n\u001b[1;32m----> 3\u001b[0m     x \u001b[39m+\u001b[39m\u001b[39m=\u001b[39m \u001b[39m1\u001b[39m\n\u001b[0;32m      4\u001b[0m     \u001b[39mprint\u001b[39m(x)\n",
      "\u001b[1;31mUnboundLocalError\u001b[0m: local variable 'x' referenced before assignment"
     ]
    }
   ],
   "source": [
    "foo()"
   ]
  },
  {
   "attachments": {},
   "cell_type": "markdown",
   "id": "2b583ae8",
   "metadata": {},
   "source": [
    "เพราะว่า x ไม่ได้ถูกประกาศใน foo() แต่เรียกใช้ใน foo() จึงทำให้เกิด UnboundLocalError\n",
    "\n",
    "เพราะ python interpreter มองว่าเป็นการ x+=1 assign ค่าใหม่ และก่อนหน้านี้มีการ assign x เป็น global scope ซึ่งไม่ควรถูกใช้ใน local scope จึง error"
   ]
  },
  {
   "cell_type": "markdown",
   "id": "5401b52c",
   "metadata": {},
   "source": [
    "# 5. จงแก้ไขโค้ดข้อ4 ให้พิมพ์ 11  โดยใช้ global, nonlocal. ใส่ตรงคำว่า#Your code here"
   ]
  },
  {
   "cell_type": "code",
   "execution_count": 3,
   "id": "9fd063e5",
   "metadata": {},
   "outputs": [
    {
     "ename": "SyntaxError",
     "evalue": "name 'x' is parameter and global (930210467.py, line 3)",
     "output_type": "error",
     "traceback": [
      "\u001b[1;36m  Cell \u001b[1;32mIn[3], line 3\u001b[1;36m\u001b[0m\n\u001b[1;33m    global x\u001b[0m\n\u001b[1;37m    ^\u001b[0m\n\u001b[1;31mSyntaxError\u001b[0m\u001b[1;31m:\u001b[0m name 'x' is parameter and global\n"
     ]
    }
   ],
   "source": [
    "x = 10\n",
    "def foo(x):\n",
    "    global x\n",
    "    x += 1\n",
    "    print(x)"
   ]
  },
  {
   "cell_type": "code",
   "execution_count": 2,
   "id": "d56dfee5",
   "metadata": {},
   "outputs": [
    {
     "ename": "NameError",
     "evalue": "name 'foo' is not defined",
     "output_type": "error",
     "traceback": [
      "\u001b[1;31m---------------------------------------------------------------------------\u001b[0m",
      "\u001b[1;31mNameError\u001b[0m                                 Traceback (most recent call last)",
      "Cell \u001b[1;32mIn[2], line 1\u001b[0m\n\u001b[1;32m----> 1\u001b[0m foo(x)\n",
      "\u001b[1;31mNameError\u001b[0m: name 'foo' is not defined"
     ]
    }
   ],
   "source": [
    "foo(x)"
   ]
  },
  {
   "cell_type": "markdown",
   "id": "511828de",
   "metadata": {},
   "source": [
    "# 6. ทำไม lst ในfoo1ถึงถูก append , แต่ lst ใน foo2เกิด error?"
   ]
  },
  {
   "cell_type": "code",
   "execution_count": 61,
   "id": "f3f8a718",
   "metadata": {},
   "outputs": [
    {
     "name": "stdout",
     "output_type": "stream",
     "text": [
      "[1, 2, 3, 5]\n"
     ]
    }
   ],
   "source": [
    "lst = [1, 2, 3]\n",
    "def foo1():\n",
    "    lst.append(5)   # This works ok\n",
    "\n",
    "foo1()\n",
    "print(lst)\n"
   ]
  },
  {
   "cell_type": "code",
   "execution_count": 62,
   "id": "3e014218",
   "metadata": {},
   "outputs": [
    {
     "ename": "UnboundLocalError",
     "evalue": "cannot access local variable 'lst' where it is not associated with a value",
     "output_type": "error",
     "traceback": [
      "\u001b[1;31m---------------------------------------------------------------------------\u001b[0m",
      "\u001b[1;31mUnboundLocalError\u001b[0m                         Traceback (most recent call last)",
      "Cell \u001b[1;32mIn[62], line 4\u001b[0m\n\u001b[0;32m      1\u001b[0m \u001b[39mdef\u001b[39;00m \u001b[39mfoo2\u001b[39m():\n\u001b[0;32m      2\u001b[0m     lst \u001b[39m+\u001b[39m\u001b[39m=\u001b[39m [\u001b[39m5\u001b[39m]   \n\u001b[1;32m----> 4\u001b[0m foo2()\n",
      "Cell \u001b[1;32mIn[62], line 2\u001b[0m, in \u001b[0;36mfoo2\u001b[1;34m()\u001b[0m\n\u001b[0;32m      1\u001b[0m \u001b[39mdef\u001b[39;00m \u001b[39mfoo2\u001b[39m():\n\u001b[1;32m----> 2\u001b[0m     lst \u001b[39m+\u001b[39m\u001b[39m=\u001b[39m [\u001b[39m5\u001b[39m]\n",
      "\u001b[1;31mUnboundLocalError\u001b[0m: cannot access local variable 'lst' where it is not associated with a value"
     ]
    }
   ],
   "source": [
    "def foo2():\n",
    "    lst += [5]   \n",
    "    \n",
    "foo2()"
   ]
  },
  {
   "attachments": {},
   "cell_type": "markdown",
   "id": "86a4019e",
   "metadata": {},
   "source": [
    "เพราะว่า list ใน foo1 ถูกประกาศใน foo1() แต่ list ใน foo2 ไม่ได้ถูกประกาศใน foo2() จึงทำให้เกิด error"
   ]
  },
  {
   "cell_type": "markdown",
   "id": "5fb09576",
   "metadata": {},
   "source": [
    "# 7 ทำไมค่า b เปลี่ยน  เมื่อเราเปลี่ยนค่า a[1][1] ?"
   ]
  },
  {
   "cell_type": "code",
   "execution_count": 52,
   "id": "156acc53",
   "metadata": {},
   "outputs": [],
   "source": [
    "a=[1,[2,3],4]\n",
    "b=a[1]\n"
   ]
  },
  {
   "cell_type": "code",
   "execution_count": 53,
   "id": "f4e28937",
   "metadata": {},
   "outputs": [
    {
     "data": {
      "text/plain": [
       "[2, 3]"
      ]
     },
     "execution_count": 53,
     "metadata": {},
     "output_type": "execute_result"
    }
   ],
   "source": [
    "b"
   ]
  },
  {
   "cell_type": "code",
   "execution_count": 54,
   "id": "ddfa4bc1",
   "metadata": {},
   "outputs": [],
   "source": [
    "a[1][1] =100"
   ]
  },
  {
   "cell_type": "code",
   "execution_count": 57,
   "id": "68525a3d",
   "metadata": {},
   "outputs": [
    {
     "data": {
      "text/plain": [
       "[2, 100]"
      ]
     },
     "execution_count": 57,
     "metadata": {},
     "output_type": "execute_result"
    }
   ],
   "source": [
    "b"
   ]
  },
  {
   "attachments": {},
   "cell_type": "markdown",
   "id": "c0971242",
   "metadata": {},
   "source": [
    "เพราะว่า a และ b มีค่าเป็น list ซึ่งเป็น mutable จึงทำให้เกิดการเปลี่ยนแปลงค่า"
   ]
  },
  {
   "cell_type": "markdown",
   "id": "0b93ae21",
   "metadata": {},
   "source": [
    "# 8. นักเรียนคิดว่าข้อนี้ ผู้เขียนโปรแกรมทำอะไรผิดจึงเกิด IndexError?"
   ]
  },
  {
   "cell_type": "code",
   "execution_count": 173,
   "id": "2fee38cd",
   "metadata": {},
   "outputs": [
    {
     "ename": "IndexError",
     "evalue": "list index out of range",
     "output_type": "error",
     "traceback": [
      "\u001b[1;31m---------------------------------------------------------------------------\u001b[0m",
      "\u001b[1;31mIndexError\u001b[0m                                Traceback (most recent call last)",
      "Cell \u001b[1;32mIn[173], line 4\u001b[0m\n\u001b[0;32m      2\u001b[0m numbers \u001b[39m=\u001b[39m [n \u001b[39mfor\u001b[39;00m n \u001b[39min\u001b[39;00m \u001b[39mrange\u001b[39m(\u001b[39m10\u001b[39m)]\n\u001b[0;32m      3\u001b[0m \u001b[39mfor\u001b[39;00m i \u001b[39min\u001b[39;00m \u001b[39mrange\u001b[39m(\u001b[39mlen\u001b[39m(numbers)):\n\u001b[1;32m----> 4\u001b[0m     \u001b[39mif\u001b[39;00m odd(numbers[i]):\n\u001b[0;32m      5\u001b[0m         \u001b[39mdel\u001b[39;00m numbers[i]  \n",
      "\u001b[1;31mIndexError\u001b[0m: list index out of range"
     ]
    }
   ],
   "source": [
    "odd = lambda x : bool(x % 2)\n",
    "numbers = [n for n in range(10)]\n",
    "for i in range(len(numbers)):\n",
    "    if odd(numbers[i]):\n",
    "        del numbers[i]  "
   ]
  },
  {
   "attachments": {},
   "cell_type": "markdown",
   "id": "ffeafea6",
   "metadata": {},
   "source": [
    "ผิดตรงที่เข้าถึง index ที่ไม่มีอยู่จริง"
   ]
  },
  {
   "cell_type": "markdown",
   "id": "4f048782",
   "metadata": {},
   "source": [
    "# 9. จงแก้ไขให้ b ไม่เปลี่ยนตาม a"
   ]
  },
  {
   "cell_type": "code",
   "execution_count": 66,
   "id": "278cd807",
   "metadata": {},
   "outputs": [
    {
     "name": "stdout",
     "output_type": "stream",
     "text": [
      "[[100   3   4]\n",
      " [  1   4   5]]\n",
      "[[100   3   4]\n",
      " [  1   4   5]]\n"
     ]
    }
   ],
   "source": [
    "import numpy as np\n",
    "a =np.array([[2,3,4],[1,4,5]])\n",
    "b = a\n",
    "a[0][0]=100\n",
    "print(a)\n",
    "print(b)"
   ]
  },
  {
   "cell_type": "markdown",
   "id": "dba49191",
   "metadata": {},
   "source": [
    "# จะสังเกตุว่าเมื่อเราเปลี่ยนa[0][0], เราทำให้ b[0][0] เปลี่ยนตาม  จงแก้ไขให้มันไม่เปลี่ยนตาม"
   ]
  },
  {
   "cell_type": "code",
   "execution_count": null,
   "id": "71d352e4",
   "metadata": {},
   "outputs": [],
   "source": []
  },
  {
   "cell_type": "code",
   "execution_count": 68,
   "id": "45c9aa63",
   "metadata": {},
   "outputs": [
    {
     "name": "stdout",
     "output_type": "stream",
     "text": [
      "[[100   3   4]\n",
      " [  1   4   5]]\n",
      "[[2 3 4]\n",
      " [1 4 5]]\n"
     ]
    }
   ],
   "source": [
    "import numpy as np\n",
    "a =np.array([[2,3,4],[1,4,5]])\n",
    "b = np.array(a)\n",
    "a[0][0]=100\n",
    "print(a)\n",
    "print(b)"
   ]
  },
  {
   "cell_type": "markdown",
   "id": "1a0ecf62",
   "metadata": {},
   "source": [
    "# 10. โค้ดด้านล่างผิดตรงไหน? ทำไมเกิด type error"
   ]
  },
  {
   "cell_type": "code",
   "execution_count": 185,
   "id": "8b3db898",
   "metadata": {},
   "outputs": [],
   "source": [
    "class A:\n",
    "    def __init__():\n",
    "        pass\n",
    "    \n",
    "    def amethod():\n",
    "        pass\n",
    "        "
   ]
  },
  {
   "cell_type": "code",
   "execution_count": 186,
   "id": "a3e3904f",
   "metadata": {},
   "outputs": [
    {
     "ename": "TypeError",
     "evalue": "A.__init__() takes 0 positional arguments but 1 was given",
     "output_type": "error",
     "traceback": [
      "\u001b[1;31m---------------------------------------------------------------------------\u001b[0m",
      "\u001b[1;31mTypeError\u001b[0m                                 Traceback (most recent call last)",
      "Cell \u001b[1;32mIn[186], line 1\u001b[0m\n\u001b[1;32m----> 1\u001b[0m anA \u001b[39m=\u001b[39m A()\n\u001b[0;32m      2\u001b[0m anA\u001b[39m.\u001b[39mamethod()\n",
      "\u001b[1;31mTypeError\u001b[0m: A.__init__() takes 0 positional arguments but 1 was given"
     ]
    }
   ],
   "source": [
    "anA = A()\n",
    "anA.amethod()"
   ]
  },
  {
   "cell_type": "code",
   "execution_count": 187,
   "id": "6776ddf9",
   "metadata": {},
   "outputs": [
    {
     "ename": "SyntaxError",
     "evalue": "invalid syntax (2831983794.py, line 1)",
     "output_type": "error",
     "traceback": [
      "\u001b[1;36m  Cell \u001b[1;32mIn[187], line 1\u001b[1;36m\u001b[0m\n\u001b[1;33m    เพราะว่า ใน class ไม่มีการสร้าง method ที่ชื่อว่า amethod แต่มีการสร้าง method ที่ชื่อว่า __init__ ซึ่งเป็น method ที่ทำงานเมื่อสร้าง object ขึ้นมา\u001b[0m\n\u001b[1;37m             ^\u001b[0m\n\u001b[1;31mSyntaxError\u001b[0m\u001b[1;31m:\u001b[0m invalid syntax\n"
     ]
    }
   ],
   "source": [
    "เพราะว่า ใน class ไม่มีการสร้าง method ที่ชื่อว่า amethod แต่มีการสร้าง method ที่ชื่อว่า __init__ ซึ่งเป็น method ที่ทำงานเมื่อสร้าง object ขึ้นมา"
   ]
  },
  {
   "cell_type": "markdown",
   "id": "edb8c960",
   "metadata": {},
   "source": [
    "# 11. จงอธิบายว่า with ในการทำงานกับไฟล์"
   ]
  },
  {
   "cell_type": "code",
   "execution_count": 75,
   "id": "b13c901c",
   "metadata": {},
   "outputs": [],
   "source": [
    "with open(\"test.txt\",'w',encoding = 'utf-8') as f:\n",
    "    f.write(\"This file ------\\n\\n\")\n",
    "    f.write(\"11 22\\n\\n\")"
   ]
  },
  {
   "cell_type": "markdown",
   "id": "3b861274",
   "metadata": {},
   "source": [
    "# ต่างกับ"
   ]
  },
  {
   "cell_type": "code",
   "execution_count": 76,
   "id": "af024dec",
   "metadata": {},
   "outputs": [
    {
     "data": {
      "text/plain": [
       "7"
      ]
     },
     "execution_count": 76,
     "metadata": {},
     "output_type": "execute_result"
    }
   ],
   "source": [
    "f2 = open('test.txt','w')\n",
    "f2.write(\"This file ------\\n\\n\")\n",
    "f2.write(\"11 22\\n\\n\")"
   ]
  },
  {
   "cell_type": "markdown",
   "id": "351e90ba",
   "metadata": {},
   "source": [
    "# อย่างไร?"
   ]
  },
  {
   "cell_type": "code",
   "execution_count": null,
   "id": "04330701",
   "metadata": {},
   "outputs": [],
   "source": []
  },
  {
   "cell_type": "markdown",
   "id": "b39a4278",
   "metadata": {},
   "source": [
    "# 12. ทำไมหลังบรรทัด del p.x , ค่าของ p.xยังอยู่และมีค่าเท่ากับ10?"
   ]
  },
  {
   "cell_type": "code",
   "execution_count": 83,
   "id": "2da408e9",
   "metadata": {},
   "outputs": [
    {
     "name": "stdout",
     "output_type": "stream",
     "text": [
      "p.x 10\n",
      "p.y 7\n",
      "p.x 12\n",
      "p.x aftr del 10\n"
     ]
    }
   ],
   "source": [
    "class TV:\n",
    "    x = 10\n",
    "    y = 7\n",
    "    \n",
    "p = TV()\n",
    "print('p.x',p.x) \n",
    "print('p.y',p.y)  \n",
    "p.x = 12 \n",
    "print('p.x',p.x) \n",
    "del p.x \n",
    "print('p.x aftr del',p.x) "
   ]
  },
  {
   "attachments": {},
   "cell_type": "markdown",
   "id": "6a2b81cd",
   "metadata": {},
   "source": [
    "เพราะว่า p.x ไม่ได้อยู่ class TV x จึงกลับไปเป็นค่าเดิม"
   ]
  },
  {
   "cell_type": "markdown",
   "id": "810a2d3d",
   "metadata": {},
   "source": [
    "# 13. Code นี้ผิดอย่างไร"
   ]
  },
  {
   "cell_type": "code",
   "execution_count": 208,
   "id": "edc970a1",
   "metadata": {},
   "outputs": [
    {
     "ename": "TypeError",
     "evalue": "'tuple' object does not support item assignment",
     "output_type": "error",
     "traceback": [
      "\u001b[1;31m---------------------------------------------------------------------------\u001b[0m",
      "\u001b[1;31mTypeError\u001b[0m                                 Traceback (most recent call last)",
      "Cell \u001b[1;32mIn[208], line 2\u001b[0m\n\u001b[0;32m      1\u001b[0m t \u001b[39m=\u001b[39m (\u001b[39m1\u001b[39m,\u001b[39m2\u001b[39m,\u001b[39m3\u001b[39m)\n\u001b[1;32m----> 2\u001b[0m t[\u001b[39m1\u001b[39;49m] \u001b[39m=\u001b[39m \u001b[39m9\u001b[39m\n\u001b[0;32m      3\u001b[0m \u001b[39mprint\u001b[39m(t)\n",
      "\u001b[1;31mTypeError\u001b[0m: 'tuple' object does not support item assignment"
     ]
    }
   ],
   "source": [
    "t = (1,2,3)\n",
    "t[1] = 9\n",
    "print(t)"
   ]
  },
  {
   "attachments": {},
   "cell_type": "markdown",
   "id": "804caa88",
   "metadata": {},
   "source": [
    "เพราะว่า tuple เป็นค่าที่สามารถเปลี่ยนแปลงได้"
   ]
  },
  {
   "cell_type": "markdown",
   "id": "e849ca84",
   "metadata": {},
   "source": [
    "# 14. ทำไม y ถึงเปลี่ยนค่าตาม x ด้วย"
   ]
  },
  {
   "cell_type": "code",
   "execution_count": 214,
   "id": "e851755f",
   "metadata": {},
   "outputs": [
    {
     "name": "stdout",
     "output_type": "stream",
     "text": [
      "[-100, 2, 3, 4]\n"
     ]
    }
   ],
   "source": [
    "y = [1,2,3]\n",
    "\n",
    "def func(x):\n",
    "    x.append(4)\n",
    "    x[0] = -100\n",
    "\n",
    "func(y)\n",
    "\n",
    "print(y)"
   ]
  },
  {
   "attachments": {},
   "cell_type": "markdown",
   "id": "aa65b08d",
   "metadata": {},
   "source": [
    "เพราะว่า x และ y อ้างอิงถึงค่าเดียวกัน"
   ]
  },
  {
   "cell_type": "markdown",
   "id": "aff86f11",
   "metadata": {},
   "source": [
    "# จงแก้ไขโค้ดให้ y ไม่เปลี่ยนตาม x"
   ]
  },
  {
   "cell_type": "code",
   "execution_count": 216,
   "id": "66b0e2a7",
   "metadata": {},
   "outputs": [
    {
     "name": "stdout",
     "output_type": "stream",
     "text": [
      "[-100, 2, 3, 4]\n"
     ]
    }
   ],
   "source": [
    "def func(x):\n",
    "    x = 100"
   ]
  },
  {
   "cell_type": "markdown",
   "id": "e30865d7",
   "metadata": {},
   "source": [
    "# 15. ทำไมถึงเกิด error"
   ]
  },
  {
   "cell_type": "code",
   "execution_count": 218,
   "id": "cad18825",
   "metadata": {},
   "outputs": [
    {
     "ename": "TypeError",
     "evalue": "kwo() missing 1 required keyword-only argument: 'c'",
     "output_type": "error",
     "traceback": [
      "\u001b[1;31m---------------------------------------------------------------------------\u001b[0m",
      "\u001b[1;31mTypeError\u001b[0m                                 Traceback (most recent call last)",
      "Cell \u001b[1;32mIn[218], line 4\u001b[0m\n\u001b[0;32m      1\u001b[0m \u001b[39mdef\u001b[39;00m \u001b[39mkwo\u001b[39m(\u001b[39m*\u001b[39ma, c):\n\u001b[0;32m      2\u001b[0m     \u001b[39mprint\u001b[39m(a, c)\n\u001b[1;32m----> 4\u001b[0m kwo(\u001b[39m1\u001b[39;49m, \u001b[39m2\u001b[39;49m) \n",
      "\u001b[1;31mTypeError\u001b[0m: kwo() missing 1 required keyword-only argument: 'c'"
     ]
    }
   ],
   "source": [
    "def kwo(*a, c):\n",
    "    print(a, c)\n",
    "\n",
    "kwo(1, 2) "
   ]
  },
  {
   "attachments": {},
   "cell_type": "markdown",
   "id": "de06d798",
   "metadata": {},
   "source": [
    "เพราะว่า a ต้องรับค่าเป็น int แต่เราใส่"
   ]
  },
  {
   "cell_type": "markdown",
   "id": "c9ea8dc9",
   "metadata": {},
   "source": [
    "# จงแก้ไข เรียกฟังก์ชั่นนี้ไม่ให้เกิด error "
   ]
  },
  {
   "cell_type": "code",
   "execution_count": 217,
   "id": "59706d5b",
   "metadata": {},
   "outputs": [
    {
     "name": "stdout",
     "output_type": "stream",
     "text": [
      "(1, 2) 3\n"
     ]
    }
   ],
   "source": [
    "kwo(1, 2, c=3)"
   ]
  },
  {
   "cell_type": "markdown",
   "id": "a089d059",
   "metadata": {},
   "source": [
    "# 16. นายบีต้องการสร้างaให้มีค่าเริ่มต้น listว่าง แต่ไม่ได้ต้องการให้เกิดปัญหาที่พอเรียกครั้งที่สอง a ไม่ใช่ลิสต์ว่างแล้วเพิ่มelementจากการเรียกครั้งแรกอีกด้วย  ปัญหานี้จะแก้ไขอย่างไร"
   ]
  },
  {
   "cell_type": "code",
   "execution_count": 168,
   "id": "d279ff6e",
   "metadata": {},
   "outputs": [
    {
     "name": "stdout",
     "output_type": "stream",
     "text": [
      "[]\n",
      "1\n",
      "############\n",
      "[1]\n",
      "2\n",
      "############\n",
      "[1, 2]\n",
      "3\n",
      "############\n"
     ]
    },
    {
     "data": {
      "text/plain": [
       "'\\nไม่ได้ต้องการแบบนี้  แบบที่เพิ่มelementจากการเรียกครั้งที่แล้ว\\n############\\n[1]\\n2\\n############\\n[1, 2]\\n3\\n############\\n'"
      ]
     },
     "execution_count": 168,
     "metadata": {},
     "output_type": "execute_result"
    }
   ],
   "source": [
    "def func(b,a=[]):\n",
    "    print(a)\n",
    "    print(b)\n",
    "    print('#' * 12)\n",
    "    a.append(b) \n",
    "\n",
    "func(1)\n",
    "func(2)\n",
    "func(3)\n",
    "\n",
    "'''\n",
    "ไม่ได้ต้องการแบบนี้  แบบที่เพิ่มelementจากการเรียกครั้งที่แล้ว\n",
    "############\n",
    "[1]\n",
    "2\n",
    "############\n",
    "[1, 2]\n",
    "3\n",
    "############\n",
    "'''"
   ]
  },
  {
   "cell_type": "code",
   "execution_count": null,
   "id": "60003133",
   "metadata": {},
   "outputs": [],
   "source": []
  },
  {
   "cell_type": "markdown",
   "id": "83fa93ae",
   "metadata": {},
   "source": [
    "# 17. จงเขียนโค้ดให้ \n",
    "cnp=[[ 2  6 10],\n",
    " [ 3  7 11]]\n",
    " โดยการบวกระหว่างanpกับbnpแบบbroadcasting \n",
    " # ตรง  Your code here"
   ]
  },
  {
   "cell_type": "code",
   "execution_count": 4,
   "id": "d37ad0d2",
   "metadata": {},
   "outputs": [
    {
     "ename": "ValueError",
     "evalue": "operands could not be broadcast together with shapes (3,2) (3,) ",
     "output_type": "error",
     "traceback": [
      "\u001b[1;31m---------------------------------------------------------------------------\u001b[0m",
      "\u001b[1;31mValueError\u001b[0m                                Traceback (most recent call last)",
      "Cell \u001b[1;32mIn[4], line 5\u001b[0m\n\u001b[0;32m      3\u001b[0m anp \u001b[39m=\u001b[39m np\u001b[39m.\u001b[39marray([[\u001b[39m1\u001b[39m ,\u001b[39m2\u001b[39m],[\u001b[39m3\u001b[39m,\u001b[39m4\u001b[39m],[\u001b[39m5\u001b[39m,\u001b[39m6\u001b[39m]])\n\u001b[0;32m      4\u001b[0m bnp \u001b[39m=\u001b[39m np\u001b[39m.\u001b[39marray([\u001b[39m1\u001b[39m,\u001b[39m3\u001b[39m,\u001b[39m5\u001b[39m])\n\u001b[1;32m----> 5\u001b[0m cnp \u001b[39m=\u001b[39m np\u001b[39m.\u001b[39marray(anp\u001b[39m+\u001b[39;49mbnp)\n\u001b[0;32m      6\u001b[0m \u001b[39mprint\u001b[39m(cnp)\n",
      "\u001b[1;31mValueError\u001b[0m: operands could not be broadcast together with shapes (3,2) (3,) "
     ]
    }
   ],
   "source": [
    "import numpy as np\n",
    "\n",
    "anp = np.array([[1 ,2],[3,4],[5,6]])\n",
    "bnp = np.array([1,3,5])\n",
    "cnp = np.array(anp+bnp)\n",
    "print(cnp)"
   ]
  },
  {
   "cell_type": "markdown",
   "id": "0c46a34e",
   "metadata": {},
   "source": [
    "# 18. นายกอต้องการ nested list โดยมีลิสต์ข้างในเหมือนกันสี่ชุดจึงสร้างลิสต์ดังนี้"
   ]
  },
  {
   "cell_type": "code",
   "execution_count": 220,
   "id": "73710793",
   "metadata": {},
   "outputs": [
    {
     "name": "stdout",
     "output_type": "stream",
     "text": [
      "[[1, 2, 3], [1, 2, 3], [1, 2, 3], [1, 2, 3]]\n"
     ]
    }
   ],
   "source": [
    "x = [[1,2,3]]*4\n",
    "print(x)"
   ]
  },
  {
   "cell_type": "markdown",
   "id": "eea8c605",
   "metadata": {},
   "source": [
    "# ถ้านายกอต้องการเปลี่ยน x[1][1] แค่ค่าเดียว จะเกิดบั๊คอะไรขึ้น?  "
   ]
  },
  {
   "cell_type": "code",
   "execution_count": 221,
   "id": "5ba97d7d",
   "metadata": {},
   "outputs": [
    {
     "name": "stdout",
     "output_type": "stream",
     "text": [
      "2\n"
     ]
    }
   ],
   "source": [
    "print(x[1][1])"
   ]
  },
  {
   "cell_type": "markdown",
   "id": "6e0bf7d1",
   "metadata": {},
   "source": [
    "# นายกอควรแก้ไขโดยการสร้างลิสต์ใหม่อย่างไร?"
   ]
  },
  {
   "cell_type": "code",
   "execution_count": 183,
   "id": "46be9701",
   "metadata": {},
   "outputs": [
    {
     "name": "stdout",
     "output_type": "stream",
     "text": [
      "[[1, 2, 3], [1, 2, 3], [1, 2, 3], [1, 2, 3]]\n"
     ]
    }
   ],
   "source": [
    "k =[i for i in x]\n",
    "print(k)"
   ]
  },
  {
   "cell_type": "markdown",
   "id": "b8f6f88e",
   "metadata": {},
   "source": [
    "# 19. จงเรียงลำดับลิสต์ของทูเปิลจากมากไปน้อย  โดยการนำค่าที่มากที่สุดในtupeมาเป็นตัววัดว่า tupeใดมากกว่า เช่น\n",
    "(2,3) vs (0,5) vs (1,2) <br>\n",
    "max(2,3) =3<br>\n",
    "max (0,5) = 5<br>\n",
    "เพราะฉะนั้น (0,5) > (2,3)<br>\n",
    "\n",
    "\n",
    "# บอกใบ้: ใช้ sorted โดยมี key เป็น lambda function ที่คำนวน max ของ tuple"
   ]
  },
  {
   "cell_type": "markdown",
   "id": "6aadc7ad",
   "metadata": {},
   "source": [
    "a = [(2,3),(5,9),(-2,4),(0,8)] <br>\n",
    "หลังเรียง ได้คำตอบ asort = [(5, 9), (0, 8), (-2, 4), (2, 3)]"
   ]
  },
  {
   "cell_type": "code",
   "execution_count": 281,
   "id": "c84e9796",
   "metadata": {},
   "outputs": [
    {
     "name": "stdout",
     "output_type": "stream",
     "text": [
      "[((9, 5), (2, 3)), ((4, -2), (9, 5)), ((2, 3), (4, -2)), ((0, 8), (0, 8))]\n"
     ]
    }
   ],
   "source": [
    "a = [(2,3),(9,5),(4,-2),(0,8)]\n",
    "asort = [ i for i in zip(reversed(sorted(a)))]\n",
    "print(asort)"
   ]
  },
  {
   "cell_type": "markdown",
   "id": "d2dffacd",
   "metadata": {},
   "source": [
    "# 20 จงเรียงลำดับลิสต์ของObjectจากมากไปน้อย  โดยการนำค่าที่มากที่สุดในObjectมาเป็นตัววัดว่า Object ใดมากกว่า เช่น\n",
    "Object1(2,3) vs Object1(0,5) vs Object1(1,2) <br>\n",
    "max(2,3) =3<br>\n",
    "max (0,5) = 5<br>\n",
    "เพราะฉะนั้น Object1(0,5) > Object1(2,3)<br>\n",
    "\n",
    "\n",
    "# บอกใบ้: Define __gt__ แล้วใช้sorted โดยไม่ต้องใช้key"
   ]
  },
  {
   "cell_type": "code",
   "execution_count": 203,
   "id": "3b2a5b60",
   "metadata": {},
   "outputs": [],
   "source": [
    "class Object1:\n",
    "    def __init__(self,a):\n",
    "        self.a = a[0]\n",
    "        self.b = a[1]\n",
    "        \n",
    "    def __str__(self):\n",
    "        return f\"Object1({self.a},{self.b})\"\n",
    "        \n",
    "    def __gt__(self,other):\n",
    "        return self.a > other.a"
   ]
  },
  {
   "cell_type": "code",
   "execution_count": 120,
   "id": "2ce128aa",
   "metadata": {},
   "outputs": [
    {
     "name": "stdout",
     "output_type": "stream",
     "text": [
      "Object1(2,3)\n",
      "Object1(9,5)\n",
      "Object1(4,-2)\n",
      "Object1(0,8)\n"
     ]
    }
   ],
   "source": [
    "a = [(2,3),(9,5),(4,-2),(0,8)]\n",
    "aObj1s = [Object1(i) for i in a]\n",
    "for i in aObj1s:\n",
    "    print(i)"
   ]
  },
  {
   "cell_type": "code",
   "execution_count": 223,
   "id": "7a120dab",
   "metadata": {},
   "outputs": [],
   "source": [
    "aObj1sSorted = reversed(sorted(aObj1s))"
   ]
  },
  {
   "cell_type": "code",
   "execution_count": 224,
   "id": "c346f54d",
   "metadata": {},
   "outputs": [
    {
     "name": "stdout",
     "output_type": "stream",
     "text": [
      "Object1(9,5)\n",
      "Object1(4,-2)\n",
      "Object1(2,3)\n",
      "Object1(0,8)\n"
     ]
    }
   ],
   "source": [
    "for i in aObj1sSorted:\n",
    "    print(i)"
   ]
  },
  {
   "cell_type": "code",
   "execution_count": null,
   "id": "5de6a034",
   "metadata": {},
   "outputs": [],
   "source": []
  }
 ],
 "metadata": {
  "kernelspec": {
   "display_name": "Python 3",
   "language": "python",
   "name": "python3"
  },
  "language_info": {
   "codemirror_mode": {
    "name": "ipython",
    "version": 3
   },
   "file_extension": ".py",
   "mimetype": "text/x-python",
   "name": "python",
   "nbconvert_exporter": "python",
   "pygments_lexer": "ipython3",
   "version": "3.10.9 (tags/v3.10.9:1dd9be6, Dec  6 2022, 20:01:21) [MSC v.1934 64 bit (AMD64)]"
  },
  "vscode": {
   "interpreter": {
    "hash": "58dbfdb34cf82127b32c5737e6183911655ff227e5c11e8f5e4b25048ae98ef2"
   }
  }
 },
 "nbformat": 4,
 "nbformat_minor": 5
}
